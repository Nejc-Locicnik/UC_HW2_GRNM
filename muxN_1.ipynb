{
 "cells": [
  {
   "cell_type": "code",
   "execution_count": 1,
   "metadata": {},
   "outputs": [],
   "source": [
    "from grenmlin import simulator, grn\n",
    "import numpy as np\n",
    "import matplotlib.pyplot as plt\n",
    "from helper_functions import visualize, get_input_signals, test_inputs"
   ]
  },
  {
   "cell_type": "markdown",
   "metadata": {},
   "source": [
    "## N:1 MUX\n",
    "\n",
    "Generalized MUX structure. Boolean formula:\n",
    "$$\n",
    "Y = (X_1 \\cdot \\overline S_1 \\cdot \\overline S_2 \\cdot \\dots \\cdot \\overline S_{\\log_2 N}) + (X_2 \\cdot S_1 \\cdot \\overline S_2 \\cdot \\dots \\cdot \\overline S_{\\log_2 N}) + \\dots + (X_N \\cdot S_1 \\cdot S_2 \\cdot \\dots \\cdot S_{\\log_2 N}) \n",
    "$$"
   ]
  },
  {
   "cell_type": "code",
   "execution_count": 4,
   "metadata": {},
   "outputs": [],
   "source": [
    "def make_mux(N):\n",
    "    pass"
   ]
  },
  {
   "cell_type": "code",
   "execution_count": null,
   "metadata": {},
   "outputs": [],
   "source": []
  }
 ],
 "metadata": {
  "kernelspec": {
   "display_name": "Python 3",
   "language": "python",
   "name": "python3"
  },
  "language_info": {
   "codemirror_mode": {
    "name": "ipython",
    "version": 3
   },
   "file_extension": ".py",
   "mimetype": "text/x-python",
   "name": "python",
   "nbconvert_exporter": "python",
   "pygments_lexer": "ipython3",
   "version": "3.12.0"
  }
 },
 "nbformat": 4,
 "nbformat_minor": 2
}
